{
 "cells": [
  {
   "cell_type": "markdown",
   "metadata": {},
   "source": [
    "# Deep Learning Project: **Financial Forecasting for DAX Stock**\n",
    "by **Andre Datchev**, **Lukas Weigmann**, **Hannes Pohnke**"
   ]
  },
  {
   "cell_type": "markdown",
   "metadata": {},
   "source": [
    "# Outline\n",
    "xxx"
   ]
  },
  {
   "cell_type": "markdown",
   "metadata": {},
   "source": [
    "## **1) Introduction**\n",
    "\n",
    "xxx"
   ]
  },
  {
   "cell_type": "code",
   "execution_count": 1,
   "metadata": {},
   "outputs": [],
   "source": [
    "#%pip install yfinance\n",
    "#%pip install pytickersymbols\n",
    "import pandas as pd\n",
    "import yfinance as yf\n",
    "import datetime\n",
    "from pytickersymbols import PyTickerSymbols"
   ]
  },
  {
   "cell_type": "code",
   "execution_count": 10,
   "metadata": {},
   "outputs": [
    {
     "name": "stderr",
     "output_type": "stream",
     "text": [
      "[*********************100%%**********************]  2 of 2 completed"
     ]
    },
    {
     "name": "stdout",
     "output_type": "stream",
     "text": [
      "Price       Adj Close                 Close                  High             \\\n",
      "Ticker         DPWA.F      ZAL.F     DPWA.F      ZAL.F     DPWA.F      ZAL.F   \n",
      "Date                                                                           \n",
      "2023-01-12  35.648788  42.070000  37.400002  42.070000  37.400002  42.150002   \n",
      "2023-01-13  36.220692  42.599998  38.000000  42.599998  38.000000  43.000000   \n",
      "2023-01-16  37.173870  44.209999  39.000000  44.209999  39.000000  44.230000   \n",
      "2023-01-17  36.601967  42.689999  38.400002  42.689999  38.400002  44.200001   \n",
      "2023-01-18  38.317680  42.750000  40.200001  42.750000  40.200001  44.240002   \n",
      "\n",
      "Price             Low                  Open            Volume        \n",
      "Ticker         DPWA.F      ZAL.F     DPWA.F      ZAL.F DPWA.F ZAL.F  \n",
      "Date                                                                 \n",
      "2023-01-12  37.000000  40.549999  37.000000  40.549999    105  3447  \n",
      "2023-01-13  37.400002  41.730000  37.400002  41.950001    250  7291  \n",
      "2023-01-16  37.799999  42.759998  37.799999  42.900002     25  3697  \n",
      "2023-01-17  38.400002  42.070000  38.400002  44.200001      0  7065  \n",
      "2023-01-18  39.400002  42.750000  39.400002  42.950001      9  1685  \n",
      "<class 'pandas.core.frame.DataFrame'>\n",
      "DatetimeIndex: 242 entries, 2023-01-12 to 2023-12-29\n",
      "Data columns (total 12 columns):\n",
      " #   Column               Non-Null Count  Dtype  \n",
      "---  ------               --------------  -----  \n",
      " 0   (Adj Close, DPWA.F)  242 non-null    float64\n",
      " 1   (Adj Close, ZAL.F)   242 non-null    float64\n",
      " 2   (Close, DPWA.F)      242 non-null    float64\n",
      " 3   (Close, ZAL.F)       242 non-null    float64\n",
      " 4   (High, DPWA.F)       242 non-null    float64\n",
      " 5   (High, ZAL.F)        242 non-null    float64\n",
      " 6   (Low, DPWA.F)        242 non-null    float64\n",
      " 7   (Low, ZAL.F)         242 non-null    float64\n",
      " 8   (Open, DPWA.F)       242 non-null    float64\n",
      " 9   (Open, ZAL.F)        242 non-null    float64\n",
      " 10  (Volume, DPWA.F)     242 non-null    int64  \n",
      " 11  (Volume, ZAL.F)      242 non-null    int64  \n",
      "dtypes: float64(10), int64(2)\n",
      "memory usage: 24.6 KB\n",
      "(242, 12)\n"
     ]
    },
    {
     "name": "stderr",
     "output_type": "stream",
     "text": [
      "\n"
     ]
    }
   ],
   "source": [
    "#tetestestsetst\n",
    "\n",
    "dax_tickers = ['DPWA.F', 'ZAL.F']\n",
    "# fetch the stock data\n",
    "dax_data = yf.download(dax_tickers, start='2023-01-12', end='2024-01-01')\n",
    "\n",
    "\n",
    "#print(dax_data.columns)\n",
    "#print(type(dax_data))\n",
    "#print(dax_tickers)\n",
    "#dax_data = pd.DataFrame(dax_data)\n",
    "print(dax_data.head())\n",
    "dax_data.info()\n",
    "print(dax_data.shape)"
   ]
  },
  {
   "cell_type": "code",
   "execution_count": 2,
   "metadata": {},
   "outputs": [
    {
     "name": "stdout",
     "output_type": "stream",
     "text": [
      "40\n"
     ]
    },
    {
     "name": "stderr",
     "output_type": "stream",
     "text": [
      "[*********************100%%**********************]  40 of 40 completed"
     ]
    },
    {
     "name": "stdout",
     "output_type": "stream",
     "text": [
      "<class 'pandas.core.frame.DataFrame'>\n",
      "DatetimeIndex: 247 entries, 2023-01-12 to 2023-12-29\n",
      "Columns: 240 entries, ('Adj Close', '1COV.F') to ('Volume', 'ZAL.F')\n",
      "dtypes: float64(239), int64(1)\n",
      "memory usage: 465.1 KB\n",
      "(247, 240)\n"
     ]
    },
    {
     "name": "stderr",
     "output_type": "stream",
     "text": [
      "\n"
     ]
    }
   ],
   "source": [
    "stock_data = PyTickerSymbols()\n",
    "\n",
    "# Tickers for current dax companies\n",
    "# ! We'll only use current DAX companies (the size composition of the index changes through time)\n",
    "\n",
    "dax_overview = stock_data.get_stocks_by_index('DAX') # this includes additional data like industry, number of employees but not super useful ig\n",
    "dax_tickers = [entry['symbol'] for entry in dax_overview]\n",
    "dax_tickers = [f\"{ticker}.F\" for ticker in dax_tickers] # F for Frankfurt tickers\n",
    "\n",
    "if 'DPW.F' in dax_tickers: \n",
    "    dax_tickers[dax_tickers.index('DPW.F')] = 'DPWA.F' # seemingly PyTickerSymbols() doesnt know of this name change yet \n",
    "\n",
    "print(len(list(dax_tickers)))\n",
    "\n",
    "#dax_tickers = stock_data.get_dax_frankfurt_yahoo_tickers() # this gets us also historical tickers\n",
    "\n",
    "# fetch the stock data\n",
    "dax_data = yf.download(dax_tickers, start='2023-01-12', end='2024-01-01')\n",
    "\n",
    "\n",
    "#print(dax_data.columns)\n",
    "#print(type(dax_data))\n",
    "#print(dax_tickers)\n",
    "dax_data.head()\n",
    "dax_data.info()\n",
    "print(dax_data.shape)"
   ]
  },
  {
   "cell_type": "markdown",
   "metadata": {},
   "source": []
  }
 ],
 "metadata": {
  "kernelspec": {
   "display_name": "Python 3 (ipykernel)",
   "language": "python",
   "name": "python3"
  },
  "language_info": {
   "codemirror_mode": {
    "name": "ipython",
    "version": 3
   },
   "file_extension": ".py",
   "mimetype": "text/x-python",
   "name": "python",
   "nbconvert_exporter": "python",
   "pygments_lexer": "ipython3",
   "version": "3.11.7"
  }
 },
 "nbformat": 4,
 "nbformat_minor": 4
}

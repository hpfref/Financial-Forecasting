{
 "cells": [
  {
   "cell_type": "markdown",
   "metadata": {},
   "source": [
    "# Deep Learning Project: **Financial Forecasting for DAX Stock**\n",
    "by **Andre Datchev**, **Lukas Weigmann**, **Hannes Pohnke**"
   ]
  },
  {
   "cell_type": "markdown",
   "metadata": {},
   "source": [
    "# Outline\n",
    "xxx"
   ]
  },
  {
   "cell_type": "markdown",
   "metadata": {},
   "source": [
    "## **1) Introduction**\n",
    "\n",
    "xxx"
   ]
  },
  {
   "cell_type": "code",
   "execution_count": 1,
   "metadata": {},
   "outputs": [],
   "source": [
    "#%pip install yfinance\n",
    "#%pip install pytickersymbols\n",
    "import pandas as pd\n",
    "import yfinance as yf\n",
    "import datetime\n",
    "from pytickersymbols import PyTickerSymbols"
   ]
  },
  {
   "cell_type": "code",
   "execution_count": 74,
   "metadata": {},
   "outputs": [
    {
     "data": {
      "text/plain": [
       "\"\\n#tetestestsetst for 2 stocks\\n\\ndax_tickers = ['DPWA.F', 'ZAL.F']\\n# fetch the stock data\\ndax_data = yf.download(dax_tickers, start='2023-01-12', end='2024-01-01')\\n\\n# damit date auch eine column hat\\n#dax_data = dax_data.reset_index()\\n#dax_data['Date'] = dax_data.index\\n\\nprint(dax_data.head())\\nprint(dax_data.info())\\nprint(dax_data.shape)\\n\""
      ]
     },
     "execution_count": 74,
     "metadata": {},
     "output_type": "execute_result"
    }
   ],
   "source": [
    "\"\"\"\n",
    "#tetestestsetst for 2 stocks\n",
    "\n",
    "dax_tickers = ['DPWA.F', 'ZAL.F']\n",
    "# fetch the stock data\n",
    "dax_data = yf.download(dax_tickers, start='2023-01-12', end='2024-01-01')\n",
    "\n",
    "# damit date auch eine column hat\n",
    "#dax_data = dax_data.reset_index()\n",
    "#dax_data['Date'] = dax_data.index\n",
    "\n",
    "print(dax_data.head())\n",
    "print(dax_data.info())\n",
    "print(dax_data.shape)\n",
    "\"\"\""
   ]
  },
  {
   "cell_type": "code",
   "execution_count": 2,
   "metadata": {},
   "outputs": [
    {
     "name": "stderr",
     "output_type": "stream",
     "text": [
      "[*********************100%%**********************]  40 of 40 completed\n"
     ]
    }
   ],
   "source": [
    "stock_data = PyTickerSymbols()\n",
    "\n",
    "# Tickers for current dax companies\n",
    "# ! We'll only use current DAX companies (the size composition of the index changes through time)\n",
    "\n",
    "dax_overview = stock_data.get_stocks_by_index('DAX') # this includes additional data like industry, number of employees but not super useful ig\n",
    "dax_tickers = [entry['symbol'] for entry in dax_overview]\n",
    "dax_tickers = [f\"{ticker}.F\" for ticker in dax_tickers] # F for Frankfurt tickers\n",
    "\n",
    "if 'DPW.F' in dax_tickers: \n",
    "    dax_tickers[dax_tickers.index('DPW.F')] = 'DPWA.F' # seemingly PyTickerSymbols() doesnt know of this name change yet \n",
    "\n",
    "#print(len(list(dax_tickers)))\n",
    "\n",
    "#dax_tickers = stock_data.get_dax_frankfurt_yahoo_tickers() # this gets us also historical tickers\n",
    "\n",
    "# to make Date a column, currently its an additional index, but not a column\n",
    "#dax_data = dax_data.reset_index()\n",
    "#dax_data['Date'] = dax_data.index\n",
    "\n",
    "\n",
    "# fetch the stock data\n",
    "dax_data = yf.download(dax_tickers, start='2022-01-01', end='2022-01-12', interval='1d') #adjust range\n",
    "# ES GIBT KEINE DAILY DATA; NUR IM DEZEMBER???????????????????\n"
   ]
  },
  {
   "cell_type": "markdown",
   "metadata": {},
   "source": []
  },
  {
   "cell_type": "code",
   "execution_count": 3,
   "metadata": {},
   "outputs": [
    {
     "name": "stdout",
     "output_type": "stream",
     "text": [
      "Price       Adj Close                                                 \\\n",
      "Ticker         1COV.F       ADS.F       AIR.F       ALV.F      BAS.F   \n",
      "Date                                                                   \n",
      "2022-01-03  51.009502  254.150085  113.416840  189.870956  54.145756   \n",
      "2022-01-04  51.899200  252.830200  115.302589  194.105316  56.528549   \n",
      "2022-01-05  52.992794  252.194717  115.263710  192.573746  56.320595   \n",
      "2022-01-06  52.566479  247.599564  114.777687  197.303635  57.187065   \n",
      "2022-01-07  53.196682  243.786575  114.505524  199.285675  57.360359   \n",
      "\n",
      "Price                                                              ... Volume  \\\n",
      "Ticker         BAYN.F      BEI.F      BMW.F      BNR.F      CON.F  ...  QIA.F   \n",
      "Date                                                               ...          \n",
      "2022-01-03  44.313236  91.295593  78.371780  76.030151  91.136337  ...    227   \n",
      "2022-01-04  44.991405  90.091469  80.504761  76.849731  91.957985  ...   1905   \n",
      "2022-01-05  44.698772  89.637466  81.361374  77.631187  91.608543  ...   3162   \n",
      "2022-01-06  45.000694  88.413605  82.235115  75.439293  92.628517  ...   1506   \n",
      "2022-01-07  45.353714  88.137253  82.029533  75.191521  91.155228  ...    290   \n",
      "\n",
      "Price                                                                \n",
      "Ticker      RWE.F SAP.F SHL.F SIE.F SRT3.F SY1.F VNA.F VOW3.F ZAL.F  \n",
      "Date                                                                 \n",
      "2022-01-03  10658  3700  2841  2265    182   605  5373   4039  1749  \n",
      "2022-01-04   3545  2883  8221  2291    299   201  1158   6078  2752  \n",
      "2022-01-05   8849  4121  2191  5909    899    10  5267   4794  2760  \n",
      "2022-01-06  10175  3000  1137  2997    225   597  4563   3814  2354  \n",
      "2022-01-07   3861  2454   820  4209    217   135  9461   3729  1154  \n",
      "\n",
      "[5 rows x 240 columns]\n",
      "<class 'pandas.core.frame.DataFrame'>\n",
      "DatetimeIndex: 7 entries, 2022-01-03 to 2022-01-11\n",
      "Columns: 240 entries, ('Adj Close', '1COV.F') to ('Volume', 'ZAL.F')\n",
      "dtypes: float64(200), int64(40)\n",
      "memory usage: 13.2 KB\n",
      "None\n",
      "(7, 240)\n"
     ]
    }
   ],
   "source": [
    "#print(dax_data.columns)\n",
    "#print(type(dax_data))\n",
    "#print(dax_tickers)\n",
    "print(dax_data.head())\n",
    "print(dax_data.info())\n",
    "print(dax_data.shape)\n",
    "#print()"
   ]
  },
  {
   "cell_type": "markdown",
   "metadata": {},
   "source": [
    "Yfinance prices include: Open, High, Low, Close, Adj Close, Volume  \n",
    "\n",
    "We got 6*40 = 240 rows, because we got multi-indexed data with (Price, Ticker).  \n",
    "The date somehow remains as an index but not as a column."
   ]
  },
  {
   "cell_type": "markdown",
   "metadata": {},
   "source": []
  }
 ],
 "metadata": {
  "kernelspec": {
   "display_name": "Python 3 (ipykernel)",
   "language": "python",
   "name": "python3"
  },
  "language_info": {
   "codemirror_mode": {
    "name": "ipython",
    "version": 3
   },
   "file_extension": ".py",
   "mimetype": "text/x-python",
   "name": "python",
   "nbconvert_exporter": "python",
   "pygments_lexer": "ipython3",
   "version": "3.11.7"
  }
 },
 "nbformat": 4,
 "nbformat_minor": 4
}
